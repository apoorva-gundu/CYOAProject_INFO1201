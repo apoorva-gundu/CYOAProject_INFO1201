{
 "cells": [
  {
   "cell_type": "code",
   "execution_count": 1,
   "id": "338f5db1-c980-477f-844a-04b4503f45d8",
   "metadata": {},
   "outputs": [],
   "source": [
    "#Title: Take Your Bollywood Adventure"
   ]
  },
  {
   "cell_type": "code",
   "execution_count": 2,
   "id": "305b9219-3018-4bb6-a209-775d1db5c8cf",
   "metadata": {},
   "outputs": [],
   "source": [
    "#Credits: The stories were inspired by the bollywood movies: Hum Tum, Yeh Jawaani Hai Deewani and Tuesdays & Fridays. The code for the color was taken from ozzmaker.com and the code for game was inspired the sample code given by Ms. Shiva Darian. "
   ]
  },
  {
   "cell_type": "code",
   "execution_count": 3,
   "id": "5326c5d3-4a25-4683-ac05-385ae7e2795c",
   "metadata": {},
   "outputs": [],
   "source": [
    "#Instructions: Follow the prompts and select the city and number corresponding to what you want to do. Have fun!"
   ]
  },
  {
   "cell_type": "code",
   "execution_count": 4,
   "id": "ca0ccbaf-9582-4113-92f6-73b494547821",
   "metadata": {},
   "outputs": [
    {
     "name": "stdout",
     "output_type": "stream",
     "text": [
      "You are going on a trip! Pick your city:\n",
      "Choice 1: New York, USA, \n",
      "Choice 2: Mumbai, India, \n",
      "Choice 3: London, UK\n"
     ]
    }
   ],
   "source": [
    "print(\"You are going on a trip! Pick your city:\")\n",
    "print(\"Choice 1: New York, USA \\nChoice 2: Mumbai, India \\nChoice 3: London, UK\")"
   ]
  },
  {
   "cell_type": "code",
   "execution_count": 5,
   "id": "6ec277f7-3f69-4524-b183-9fadade194b9",
   "metadata": {},
   "outputs": [
    {
     "name": "stdin",
     "output_type": "stream",
     "text": [
      "Where do you want to go?: Type the CITY only:  Mumbai\n"
     ]
    }
   ],
   "source": [
    "choice1= (input (\"Where do you want to go?: Type the CITY only: \"))"
   ]
  },
  {
   "cell_type": "code",
   "execution_count": 6,
   "id": "deb38a71-09dd-4e8d-b2cd-7545db28bc0f",
   "metadata": {
    "tags": []
   },
   "outputs": [
    {
     "name": "stdout",
     "output_type": "stream",
     "text": [
      "You are now on a train to Manali.\n",
      "(9): Play a drinking game with your high school classmates.\n",
      "(10): Go to bed early for the rest of the train ride.\n"
     ]
    }
   ],
   "source": [
    "if choice1== \"New York\" :\n",
    "    print(\"You are on your way to New York. You have a layover in Amsterdam. Choose what you want to do next:\")\n",
    "    \n",
    "    print(\"(7): Stay alone in the airport and wait for 7 hours.\")\n",
    "    print(\"(8): Go sightseeing with an attractive but slightly annoying seatmate.\")\n",
    "    \n",
    "elif choice1== \"Mumbai\":\n",
    "    print(\"You are now on a train to Manali to go on a trek in the mountains. You run into your highschool classmates that you haven't seen since graduation. One of them was your highschool crush.\")\n",
    "    \n",
    "    print(\"(9): Play a drinking game with your high school classmates.\")\n",
    "    print(\"(10): Go to bed early for the rest of the train ride.\")\n",
    "\n",
    "elif choice1== \"London\":\n",
    "    print(\"You are now in a coffee shop called Koffi Schoffee.\")\n",
    "    \n",
    "    print(\"(11): Order a Varun Bean Latte.)\")\n",
    "    print(\"(12): Order a Matcha Green Juice.\")\n",
    "else:\n",
    "    print(\"Please pick one of the following 3 cities given and be sure to watch for capitalizations.\")"
   ]
  },
  {
   "cell_type": "code",
   "execution_count": 7,
   "id": "5f998218-df16-4e35-927b-ab5614b6cf88",
   "metadata": {},
   "outputs": [
    {
     "name": "stdin",
     "output_type": "stream",
     "text": [
      "What do you want to do? Input the number:  10\n"
     ]
    }
   ],
   "source": [
    "choice2= int(input(\"What do you want to do? Input the number: \"))"
   ]
  },
  {
   "cell_type": "code",
   "execution_count": 8,
   "id": "a92ee1e6-4ee6-4ee3-87c3-d0f41fcce786",
   "metadata": {},
   "outputs": [
    {
     "name": "stdout",
     "output_type": "stream",
     "text": [
      "You had a good night sleep. You wake up at the destination. You are now preparing to get off the train, unsure of what to do next. \n",
      "Your group of classmates invite you to eat. What are you doing to do?: \n",
      "(19): Go out to eat and run into trouble with the locals with your group of classmates.\n",
      "(20): Stay away from your highschool friends, only to be in the same trek group as them.\n"
     ]
    }
   ],
   "source": [
    "if choice2== 7:\n",
    "    print(\"You are bored and need to decide what you want to do in the airport. Choice one of the following options: \")\n",
    "    \n",
    "    print(\"(13): Keep to yourself and read book.\")\n",
    "    print(\"(14): Talk to your attractive passenger next to you.\")\n",
    "    \n",
    "elif choice2== 8:\n",
    "    print(\"You are walking along the streets of Amsterdam with your seatmate. Music starts to play and your seatmate offers their hand for a dance. What do you do?:\")\n",
    "    \n",
    "    print(\"(15): Dance to a song with your seatmate.\")\n",
    "    print(\"(16): Get in a fight and throw a coffee at them.\")\n",
    "\n",
    "elif choice2== 9:\n",
    "    print(\"You are now playing a serious game of Never Have I Ever. Personal questions are being asked with no inhibitions. What would likely happen to you?:\")\n",
    "    \n",
    "    print(\"(17): You get drunk and have a massive hangover the next morning.\")\n",
    "    print(\"(18): Get uncomfortable and got to bed.\")\n",
    "    \n",
    "elif choice2== 10:\n",
    "    print(\"You had a good night sleep. You wake up at the destination. You are now preparing to get off the train, unsure of what to do next. \\nYour group of classmates invite you to eat. What are you doing to do?: \")\n",
    "    \n",
    "    print(\"(19): Go out to eat and run into trouble with the locals with your group of classmates.\")\n",
    "    print(\"(20): Stay away from your highschool friends, only to be in the same trek group as them.\")\n",
    "    \n",
    "elif choice2== 11:\n",
    "    print(\"You are sipping on your delicious latte and run into someone. Who would you like to run into?: \")\n",
    "    \n",
    "    print(\"(21): Meet a cute author and come up with a dating plan.\")\n",
    "    print(\"(22): Meet an actor(gender neutral) who wants to be friends to be friends with you.\")\n",
    "    \n",
    "elif choice2== 12:\n",
    "    print(\"You are happy with your healthy drink. You run into a stranger. Who would you like to run into: \")\n",
    "    \n",
    "    print(\"(23): Meet a yoga instructor and get a free yoga pass.\")\n",
    "    print(\"(24): Meet a model and get their number.\")\n",
    "else:\n",
    "    print(\"Please pick one of the following numbers to continue.\")"
   ]
  },
  {
   "cell_type": "code",
   "execution_count": 12,
   "id": "5bd3fd9c-f1de-4f46-a5b4-a0ae1ae092fb",
   "metadata": {},
   "outputs": [
    {
     "name": "stdin",
     "output_type": "stream",
     "text": [
      "Input the number of your choice and learn about your bollywood fate:  16\n"
     ]
    }
   ],
   "source": [
    "choice3= int(input (\"Input the number of your choice and learn about your bollywood fate: \"))"
   ]
  },
  {
   "cell_type": "code",
   "execution_count": 16,
   "id": "336f7afa-e95c-46ca-86dd-91ee939f11fa",
   "metadata": {},
   "outputs": [
    {
     "name": "stdout",
     "output_type": "stream",
     "text": [
      "\u001b[0;30;45m You meet that passenger 5 years later and fall in love.\n"
     ]
    }
   ],
   "source": [
    "if choice3== 13:\n",
    "    print(\"\\033[0;46; You didn’t meet anyone special on your trip. Better luck next time! \")\n",
    "    \n",
    "elif choice3== 14:\n",
    "    print(\"\\033[0;30; Get their number and date them.\")\n",
    "\n",
    "elif choice3== 15:\n",
    "    print(\"\\033[0;46; He drops you during the final lift. You now have a broken tailbone. Should have stayed at the airport.\")\n",
    "    \n",
    "elif choice3== 16:\n",
    "    print(\"\\033[0;30;45m You meet that passenger 5 years later and fall in love.\")\n",
    "    \n",
    "elif choice3== 17:\n",
    "    print(\"\\033[0;30; You end getting close to your highschool crush and it could be something more. \")\n",
    "    \n",
    "elif choice3== 18:\n",
    "    print(\"\\033[0;46; You miss out on a delicious ham and cheese sandwich. Your love was for food. \")\n",
    "            \n",
    "elif choice3== 19:\n",
    "    print(\"\\033[0;30; You caught the eye of your cute high school classmate by saving the day. \")\n",
    "            \n",
    "elif choice3== 20:\n",
    "    print(\"\\033[0;46; You end up becoming friends with all of them. \")\n",
    "            \n",
    "elif choice3== 21:\n",
    "    print(\"\\033[0;30; You end getting married in a year. \")\n",
    "            \n",
    "elif choice3== 22:\n",
    "    print(\"\\033[0;46; You get to go the Oscars.\")\n",
    "            \n",
    "elif choice3== 23:\n",
    "    print(\"\\033[0;30; You are now spiritually awakened. \")\n",
    "            \n",
    "elif choice3== 24:\n",
    "    print(\"\\033[0;46; You dated for 6 months until you found the love of your life. \")\n",
    "            \n",
    "else:\n",
    "    print(\"Please pick one of the following numbers to continue.\")"
   ]
  },
  {
   "cell_type": "code",
   "execution_count": 11,
   "id": "a2071e9d-239d-4f1b-a067-a8cc35b761bf",
   "metadata": {},
   "outputs": [
    {
     "name": "stdout",
     "output_type": "stream",
     "text": [
      "Hope you had fun playing the game! Start over to get a different bollywood fate!\n"
     ]
    }
   ],
   "source": [
    "print(\"Hope you had fun playing the game! Start over to get a different bollywood fate!\")"
   ]
  },
  {
   "cell_type": "code",
   "execution_count": null,
   "id": "dcb5645e-d894-460d-832c-358a1c7f5831",
   "metadata": {},
   "outputs": [],
   "source": []
  }
 ],
 "metadata": {
  "kernelspec": {
   "display_name": "Python 3",
   "language": "python",
   "name": "python3"
  },
  "language_info": {
   "codemirror_mode": {
    "name": "ipython",
    "version": 3
   },
   "file_extension": ".py",
   "mimetype": "text/x-python",
   "name": "python",
   "nbconvert_exporter": "python",
   "pygments_lexer": "ipython3",
   "version": "3.8.8"
  }
 },
 "nbformat": 4,
 "nbformat_minor": 5
}
